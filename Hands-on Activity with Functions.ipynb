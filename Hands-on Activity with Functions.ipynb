{
 "cells": [
  {
   "cell_type": "markdown",
   "id": "e9855f48",
   "metadata": {},
   "source": [
    "# Hands-on activity with functions\n",
    "Editor: Saeid Sharify  \n",
    "Date: 2021/10/12  "
   ]
  },
  {
   "cell_type": "markdown",
   "id": "bc88ca73",
   "metadata": {},
   "source": [
    "#### Define a new function"
   ]
  },
  {
   "cell_type": "code",
   "execution_count": 82,
   "id": "30c00ac2",
   "metadata": {},
   "outputs": [],
   "source": [
    "# define a function\n",
    "def get_route():\n",
    "    print('set the A point')\n",
    "    print('set the B point')\n",
    "    print('set the transit mode')\n",
    "    print('set the departure / arrival time')\n",
    "    "
   ]
  },
  {
   "cell_type": "code",
   "execution_count": 83,
   "id": "d33d6632",
   "metadata": {},
   "outputs": [
    {
     "name": "stdout",
     "output_type": "stream",
     "text": [
      "set the A point\n",
      "set the B point\n",
      "set the transit mode\n",
      "set the departure / arrival time\n"
     ]
    }
   ],
   "source": [
    "get_route()"
   ]
  },
  {
   "cell_type": "code",
   "execution_count": 84,
   "id": "00f7f4cf",
   "metadata": {},
   "outputs": [],
   "source": [
    "# function with inputs as arguments or parameters\n",
    "def get_route(inpt):\n",
    "    print('set the A point as: ' + inpt)\n",
    "    print('set the B point')\n",
    "    print('set the transit mode')\n",
    "    print('set the departure / arrival time')"
   ]
  },
  {
   "cell_type": "code",
   "execution_count": 85,
   "id": "ff906ec2",
   "metadata": {},
   "outputs": [
    {
     "name": "stdout",
     "output_type": "stream",
     "text": [
      "set the A point as: Porte de Clignancourt\n",
      "set the B point\n",
      "set the transit mode\n",
      "set the departure / arrival time\n"
     ]
    }
   ],
   "source": [
    "get_route('Porte de Clignancourt')"
   ]
  },
  {
   "cell_type": "code",
   "execution_count": 86,
   "id": "094ca0ef",
   "metadata": {},
   "outputs": [],
   "source": [
    "# function with more than one input\n",
    "def get_route(Ap, Bp):\n",
    "    print('set the A point as: ' + Ap)\n",
    "    print('set the B point as: ' + Bp)\n",
    "    print('set the transit mode')\n",
    "    print('set the departure / arrival time')"
   ]
  },
  {
   "cell_type": "code",
   "execution_count": 87,
   "id": "efc89afc",
   "metadata": {},
   "outputs": [
    {
     "name": "stdout",
     "output_type": "stream",
     "text": [
      "set the A point as: Prote de Clignancourt\n",
      "set the B point as: Saint-Germain-en-Laye\n",
      "set the transit mode\n",
      "set the departure / arrival time\n"
     ]
    }
   ],
   "source": [
    "get_route('Prote de Clignancourt', 'Saint-Germain-en-Laye')"
   ]
  },
  {
   "cell_type": "code",
   "execution_count": 88,
   "id": "ad0d74d7",
   "metadata": {},
   "outputs": [],
   "source": [
    "# pre-set a function argument\n",
    "def get_route(Ap = 'Prote de Clignancourt', Bp = 'Saint-Germain-en-Laye'):\n",
    "    print('set the A point as: ' + Ap)\n",
    "    print('set the B point as: ' + Bp)\n",
    "    print('set the transit mode')\n",
    "    print('set the departure / arrival time')"
   ]
  },
  {
   "cell_type": "code",
   "execution_count": 89,
   "id": "3d22b20c",
   "metadata": {},
   "outputs": [
    {
     "data": {
      "text/plain": [
       "<function __main__.get_route(Ap='Prote de Clignancourt', Bp='Saint-Germain-en-Laye')>"
      ]
     },
     "execution_count": 89,
     "metadata": {},
     "output_type": "execute_result"
    }
   ],
   "source": [
    "get_route"
   ]
  },
  {
   "cell_type": "code",
   "execution_count": 90,
   "id": "5f0559f3",
   "metadata": {},
   "outputs": [
    {
     "name": "stdout",
     "output_type": "stream",
     "text": [
      "set the A point as: Prote de Clignancourt\n",
      "set the B point as: Saint-Germain-en-Laye\n",
      "set the transit mode\n",
      "set the departure / arrival time\n"
     ]
    }
   ],
   "source": [
    "get_route()"
   ]
  },
  {
   "cell_type": "markdown",
   "id": "68bd21c5",
   "metadata": {},
   "source": [
    "#### Return Values and Results back"
   ]
  },
  {
   "cell_type": "code",
   "execution_count": 91,
   "id": "0cfedb1a",
   "metadata": {},
   "outputs": [],
   "source": [
    "def calories (energy,duration):\n",
    "    energy = (energy* duration) * 60\n",
    "    return energy"
   ]
  },
  {
   "cell_type": "code",
   "execution_count": 92,
   "id": "f3bec3f0",
   "metadata": {},
   "outputs": [],
   "source": [
    "daily_calories = calories(100, 44)"
   ]
  },
  {
   "cell_type": "code",
   "execution_count": 93,
   "id": "d3044066",
   "metadata": {},
   "outputs": [
    {
     "name": "stdout",
     "output_type": "stream",
     "text": [
      "264000\n"
     ]
    }
   ],
   "source": [
    "print (daily_calories)"
   ]
  },
  {
   "cell_type": "code",
   "execution_count": null,
   "id": "fdae0307",
   "metadata": {},
   "outputs": [],
   "source": []
  },
  {
   "cell_type": "code",
   "execution_count": null,
   "id": "be49c221",
   "metadata": {},
   "outputs": [],
   "source": []
  }
 ],
 "metadata": {
  "kernelspec": {
   "display_name": "Python 3 (ipykernel)",
   "language": "python",
   "name": "python3"
  },
  "language_info": {
   "codemirror_mode": {
    "name": "ipython",
    "version": 3
   },
   "file_extension": ".py",
   "mimetype": "text/x-python",
   "name": "python",
   "nbconvert_exporter": "python",
   "pygments_lexer": "ipython3",
   "version": "3.9.13"
  }
 },
 "nbformat": 4,
 "nbformat_minor": 5
}
