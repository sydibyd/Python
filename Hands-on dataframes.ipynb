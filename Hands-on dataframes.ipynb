{
 "cells": [
  {
   "cell_type": "markdown",
   "id": "45a8c186",
   "metadata": {},
   "source": [
    "## Hands-on dataframes with Python 3\n",
    " Editor: Saeid Sharify  \n",
    " Date: 2021/10/14    "
   ]
  },
  {
   "cell_type": "code",
   "execution_count": 122,
   "id": "c9da0039",
   "metadata": {},
   "outputs": [
    {
     "name": "stdout",
     "output_type": "stream",
     "text": [
      "   Time_Delay_in_Minutes  LSD_ppm  Avg_Math_Test_Score\n",
      "0                      5     1.17                78.93\n",
      "1                     15     2.97                58.20\n",
      "2                     30     3.26                67.47\n",
      "3                     60     4.69                37.47\n",
      "4                    120     5.83                45.65\n",
      "5                    240     6.00                32.92\n",
      "6                    480     6.41                29.97\n"
     ]
    }
   ],
   "source": [
    "import pandas as pp\n",
    "# read the data\n",
    "data = pp.read_csv('lsd-math-score-data.csv')\n",
    "print(data)"
   ]
  },
  {
   "cell_type": "code",
   "execution_count": 123,
   "id": "a730289c",
   "metadata": {},
   "outputs": [
    {
     "data": {
      "text/plain": [
       "pandas.core.frame.DataFrame"
      ]
     },
     "execution_count": 123,
     "metadata": {},
     "output_type": "execute_result"
    }
   ],
   "source": [
    "type(data)"
   ]
  },
  {
   "cell_type": "code",
   "execution_count": 124,
   "id": "7cced5b4",
   "metadata": {},
   "outputs": [],
   "source": [
    "# a list of cool people\n",
    "# cool_prople = ['Bob', 'Jean', 'Fontaine', 'Value']\n",
    "# type(cool_prople)"
   ]
  },
  {
   "cell_type": "code",
   "execution_count": 125,
   "id": "fb684e44",
   "metadata": {},
   "outputs": [
    {
     "data": {
      "text/plain": [
       "0    1.17\n",
       "1    2.97\n",
       "2    3.26\n",
       "3    4.69\n",
       "4    5.83\n",
       "5    6.00\n",
       "6    6.41\n",
       "Name: LSD_ppm, dtype: float64"
      ]
     },
     "execution_count": 125,
     "metadata": {},
     "output_type": "execute_result"
    }
   ],
   "source": [
    "# call a column from the dataframe\n",
    "onle_LSD_ppm = data['LSD_ppm']\n",
    "onle_LSD_ppm"
   ]
  },
  {
   "cell_type": "code",
   "execution_count": 126,
   "id": "c8002e04",
   "metadata": {},
   "outputs": [
    {
     "data": {
      "text/plain": [
       "pandas.core.series.Series"
      ]
     },
     "execution_count": 126,
     "metadata": {},
     "output_type": "execute_result"
    }
   ],
   "source": [
    "type(onle_LSD_ppm)"
   ]
  },
  {
   "cell_type": "code",
   "execution_count": 127,
   "id": "220e49b1",
   "metadata": {},
   "outputs": [
    {
     "data": {
      "text/html": [
       "<div>\n",
       "<style scoped>\n",
       "    .dataframe tbody tr th:only-of-type {\n",
       "        vertical-align: middle;\n",
       "    }\n",
       "\n",
       "    .dataframe tbody tr th {\n",
       "        vertical-align: top;\n",
       "    }\n",
       "\n",
       "    .dataframe thead th {\n",
       "        text-align: right;\n",
       "    }\n",
       "</style>\n",
       "<table border=\"1\" class=\"dataframe\">\n",
       "  <thead>\n",
       "    <tr style=\"text-align: right;\">\n",
       "      <th></th>\n",
       "      <th>Time_Delay_in_Minutes</th>\n",
       "      <th>LSD_ppm</th>\n",
       "      <th>Avg_Math_Test_Score</th>\n",
       "      <th>new_column</th>\n",
       "    </tr>\n",
       "  </thead>\n",
       "  <tbody>\n",
       "    <tr>\n",
       "      <th>0</th>\n",
       "      <td>5</td>\n",
       "      <td>1.17</td>\n",
       "      <td>78.93</td>\n",
       "      <td>0</td>\n",
       "    </tr>\n",
       "    <tr>\n",
       "      <th>1</th>\n",
       "      <td>15</td>\n",
       "      <td>2.97</td>\n",
       "      <td>58.20</td>\n",
       "      <td>0</td>\n",
       "    </tr>\n",
       "    <tr>\n",
       "      <th>2</th>\n",
       "      <td>30</td>\n",
       "      <td>3.26</td>\n",
       "      <td>67.47</td>\n",
       "      <td>0</td>\n",
       "    </tr>\n",
       "    <tr>\n",
       "      <th>3</th>\n",
       "      <td>60</td>\n",
       "      <td>4.69</td>\n",
       "      <td>37.47</td>\n",
       "      <td>0</td>\n",
       "    </tr>\n",
       "    <tr>\n",
       "      <th>4</th>\n",
       "      <td>120</td>\n",
       "      <td>5.83</td>\n",
       "      <td>45.65</td>\n",
       "      <td>0</td>\n",
       "    </tr>\n",
       "    <tr>\n",
       "      <th>5</th>\n",
       "      <td>240</td>\n",
       "      <td>6.00</td>\n",
       "      <td>32.92</td>\n",
       "      <td>0</td>\n",
       "    </tr>\n",
       "    <tr>\n",
       "      <th>6</th>\n",
       "      <td>480</td>\n",
       "      <td>6.41</td>\n",
       "      <td>29.97</td>\n",
       "      <td>0</td>\n",
       "    </tr>\n",
       "  </tbody>\n",
       "</table>\n",
       "</div>"
      ],
      "text/plain": [
       "   Time_Delay_in_Minutes  LSD_ppm  Avg_Math_Test_Score  new_column\n",
       "0                      5     1.17                78.93           0\n",
       "1                     15     2.97                58.20           0\n",
       "2                     30     3.26                67.47           0\n",
       "3                     60     4.69                37.47           0\n",
       "4                    120     5.83                45.65           0\n",
       "5                    240     6.00                32.92           0\n",
       "6                    480     6.41                29.97           0"
      ]
     },
     "execution_count": 127,
     "metadata": {},
     "output_type": "execute_result"
    }
   ],
   "source": [
    "# add a column to the dataframe\n",
    "data['new_column'] = 0\n",
    "data\n"
   ]
  },
  {
   "cell_type": "code",
   "execution_count": 128,
   "id": "4054c80b",
   "metadata": {},
   "outputs": [],
   "source": [
    "# copy values of a column to the new column\n",
    "data['Time_delay_in_Seconds'] = 0\n",
    "data['Time_delay_in_Seconds'] = data['Time_Delay_in_Minutes'] * 60"
   ]
  },
  {
   "cell_type": "code",
   "execution_count": 129,
   "id": "d47cabfb",
   "metadata": {},
   "outputs": [
    {
     "data": {
      "text/plain": [
       "0      300\n",
       "1      900\n",
       "2     1800\n",
       "3     3600\n",
       "4     7200\n",
       "5    14400\n",
       "6    28800\n",
       "Name: Time_delay_in_Seconds, dtype: int64"
      ]
     },
     "execution_count": 129,
     "metadata": {},
     "output_type": "execute_result"
    }
   ],
   "source": [
    "data['Time_delay_in_Seconds']\n"
   ]
  },
  {
   "cell_type": "code",
   "execution_count": 130,
   "id": "073de267",
   "metadata": {},
   "outputs": [],
   "source": [
    "# power of 2\n",
    "# data['Time_delay_in_Seconds'] = (data['Time_delay_in_Seconds']) ** 2 \n",
    "# data['Time_delay_in_Seconds']"
   ]
  },
  {
   "cell_type": "code",
   "execution_count": 131,
   "id": "72b1d96c",
   "metadata": {},
   "outputs": [
    {
     "data": {
      "text/html": [
       "<div>\n",
       "<style scoped>\n",
       "    .dataframe tbody tr th:only-of-type {\n",
       "        vertical-align: middle;\n",
       "    }\n",
       "\n",
       "    .dataframe tbody tr th {\n",
       "        vertical-align: top;\n",
       "    }\n",
       "\n",
       "    .dataframe thead th {\n",
       "        text-align: right;\n",
       "    }\n",
       "</style>\n",
       "<table border=\"1\" class=\"dataframe\">\n",
       "  <thead>\n",
       "    <tr style=\"text-align: right;\">\n",
       "      <th></th>\n",
       "      <th>LSD_ppm</th>\n",
       "      <th>Avg_Math_Test_Score</th>\n",
       "    </tr>\n",
       "  </thead>\n",
       "  <tbody>\n",
       "    <tr>\n",
       "      <th>0</th>\n",
       "      <td>1.17</td>\n",
       "      <td>78.93</td>\n",
       "    </tr>\n",
       "    <tr>\n",
       "      <th>1</th>\n",
       "      <td>2.97</td>\n",
       "      <td>58.20</td>\n",
       "    </tr>\n",
       "    <tr>\n",
       "      <th>2</th>\n",
       "      <td>3.26</td>\n",
       "      <td>67.47</td>\n",
       "    </tr>\n",
       "    <tr>\n",
       "      <th>3</th>\n",
       "      <td>4.69</td>\n",
       "      <td>37.47</td>\n",
       "    </tr>\n",
       "    <tr>\n",
       "      <th>4</th>\n",
       "      <td>5.83</td>\n",
       "      <td>45.65</td>\n",
       "    </tr>\n",
       "    <tr>\n",
       "      <th>5</th>\n",
       "      <td>6.00</td>\n",
       "      <td>32.92</td>\n",
       "    </tr>\n",
       "    <tr>\n",
       "      <th>6</th>\n",
       "      <td>6.41</td>\n",
       "      <td>29.97</td>\n",
       "    </tr>\n",
       "  </tbody>\n",
       "</table>\n",
       "</div>"
      ],
      "text/plain": [
       "   LSD_ppm  Avg_Math_Test_Score\n",
       "0     1.17                78.93\n",
       "1     2.97                58.20\n",
       "2     3.26                67.47\n",
       "3     4.69                37.47\n",
       "4     5.83                45.65\n",
       "5     6.00                32.92\n",
       "6     6.41                29.97"
      ]
     },
     "execution_count": 131,
     "metadata": {},
     "output_type": "execute_result"
    }
   ],
   "source": [
    "# filter dataframe\n",
    "filter_xy = ['LSD_ppm', 'Avg_Math_Test_Score']\n",
    "filtred_data = data [filter_xy]\n",
    "filtred_data"
   ]
  },
  {
   "cell_type": "code",
   "execution_count": 132,
   "id": "b26a1a58",
   "metadata": {},
   "outputs": [
    {
     "data": {
      "text/html": [
       "<div>\n",
       "<style scoped>\n",
       "    .dataframe tbody tr th:only-of-type {\n",
       "        vertical-align: middle;\n",
       "    }\n",
       "\n",
       "    .dataframe tbody tr th {\n",
       "        vertical-align: top;\n",
       "    }\n",
       "\n",
       "    .dataframe thead th {\n",
       "        text-align: right;\n",
       "    }\n",
       "</style>\n",
       "<table border=\"1\" class=\"dataframe\">\n",
       "  <thead>\n",
       "    <tr style=\"text-align: right;\">\n",
       "      <th></th>\n",
       "      <th>LSD_ppm</th>\n",
       "      <th>Avg_Math_Test_Score</th>\n",
       "    </tr>\n",
       "  </thead>\n",
       "  <tbody>\n",
       "    <tr>\n",
       "      <th>0</th>\n",
       "      <td>1.17</td>\n",
       "      <td>78.93</td>\n",
       "    </tr>\n",
       "    <tr>\n",
       "      <th>1</th>\n",
       "      <td>2.97</td>\n",
       "      <td>58.20</td>\n",
       "    </tr>\n",
       "    <tr>\n",
       "      <th>2</th>\n",
       "      <td>3.26</td>\n",
       "      <td>67.47</td>\n",
       "    </tr>\n",
       "    <tr>\n",
       "      <th>3</th>\n",
       "      <td>4.69</td>\n",
       "      <td>37.47</td>\n",
       "    </tr>\n",
       "    <tr>\n",
       "      <th>4</th>\n",
       "      <td>5.83</td>\n",
       "      <td>45.65</td>\n",
       "    </tr>\n",
       "    <tr>\n",
       "      <th>5</th>\n",
       "      <td>6.00</td>\n",
       "      <td>32.92</td>\n",
       "    </tr>\n",
       "    <tr>\n",
       "      <th>6</th>\n",
       "      <td>6.41</td>\n",
       "      <td>29.97</td>\n",
       "    </tr>\n",
       "  </tbody>\n",
       "</table>\n",
       "</div>"
      ],
      "text/plain": [
       "   LSD_ppm  Avg_Math_Test_Score\n",
       "0     1.17                78.93\n",
       "1     2.97                58.20\n",
       "2     3.26                67.47\n",
       "3     4.69                37.47\n",
       "4     5.83                45.65\n",
       "5     6.00                32.92\n",
       "6     6.41                29.97"
      ]
     },
     "execution_count": 132,
     "metadata": {},
     "output_type": "execute_result"
    }
   ],
   "source": [
    "# filter dataframe 1\n",
    "# filter_xy = ['LSD_ppm', 'Avg_Math_Test_Score']\n",
    "filtred_data = data [['LSD_ppm', 'Avg_Math_Test_Score']]\n",
    "filtred_data"
   ]
  },
  {
   "cell_type": "code",
   "execution_count": 133,
   "id": "f14ad550",
   "metadata": {},
   "outputs": [
    {
     "data": {
      "text/plain": [
       "pandas.core.frame.DataFrame"
      ]
     },
     "execution_count": 133,
     "metadata": {},
     "output_type": "execute_result"
    }
   ],
   "source": [
    "type(filtred_data)"
   ]
  },
  {
   "cell_type": "code",
   "execution_count": 134,
   "id": "d753873a",
   "metadata": {},
   "outputs": [
    {
     "data": {
      "text/html": [
       "<div>\n",
       "<style scoped>\n",
       "    .dataframe tbody tr th:only-of-type {\n",
       "        vertical-align: middle;\n",
       "    }\n",
       "\n",
       "    .dataframe tbody tr th {\n",
       "        vertical-align: top;\n",
       "    }\n",
       "\n",
       "    .dataframe thead th {\n",
       "        text-align: right;\n",
       "    }\n",
       "</style>\n",
       "<table border=\"1\" class=\"dataframe\">\n",
       "  <thead>\n",
       "    <tr style=\"text-align: right;\">\n",
       "      <th></th>\n",
       "      <th>Avg_Math_Test_Score</th>\n",
       "    </tr>\n",
       "  </thead>\n",
       "  <tbody>\n",
       "    <tr>\n",
       "      <th>0</th>\n",
       "      <td>78.93</td>\n",
       "    </tr>\n",
       "    <tr>\n",
       "      <th>1</th>\n",
       "      <td>58.20</td>\n",
       "    </tr>\n",
       "    <tr>\n",
       "      <th>2</th>\n",
       "      <td>67.47</td>\n",
       "    </tr>\n",
       "    <tr>\n",
       "      <th>3</th>\n",
       "      <td>37.47</td>\n",
       "    </tr>\n",
       "    <tr>\n",
       "      <th>4</th>\n",
       "      <td>45.65</td>\n",
       "    </tr>\n",
       "    <tr>\n",
       "      <th>5</th>\n",
       "      <td>32.92</td>\n",
       "    </tr>\n",
       "    <tr>\n",
       "      <th>6</th>\n",
       "      <td>29.97</td>\n",
       "    </tr>\n",
       "  </tbody>\n",
       "</table>\n",
       "</div>"
      ],
      "text/plain": [
       "   Avg_Math_Test_Score\n",
       "0                78.93\n",
       "1                58.20\n",
       "2                67.47\n",
       "3                37.47\n",
       "4                45.65\n",
       "5                32.92\n",
       "6                29.97"
      ]
     },
     "execution_count": 134,
     "metadata": {},
     "output_type": "execute_result"
    }
   ],
   "source": [
    "new_filter = data [['Avg_Math_Test_Score']]\n",
    "new_filter"
   ]
  },
  {
   "cell_type": "code",
   "execution_count": 135,
   "id": "170db11d",
   "metadata": {},
   "outputs": [
    {
     "data": {
      "text/plain": [
       "pandas.core.frame.DataFrame"
      ]
     },
     "execution_count": 135,
     "metadata": {},
     "output_type": "execute_result"
    }
   ],
   "source": [
    "type(new_filter)"
   ]
  },
  {
   "cell_type": "code",
   "execution_count": 136,
   "id": "d23b07f0",
   "metadata": {},
   "outputs": [
    {
     "name": "stdout",
     "output_type": "stream",
     "text": [
      "   LSD_ppm\n",
      "0     1.17\n",
      "1     2.97\n",
      "2     3.26\n",
      "3     4.69\n",
      "4     5.83\n",
      "5     6.00\n",
      "6     6.41\n"
     ]
    }
   ],
   "source": [
    "LSD_ppm_filter = data [['LSD_ppm']]\n",
    "print(LSD_ppm_filter)"
   ]
  },
  {
   "cell_type": "code",
   "execution_count": 137,
   "id": "f35a0a89",
   "metadata": {},
   "outputs": [
    {
     "data": {
      "text/plain": [
       "pandas.core.frame.DataFrame"
      ]
     },
     "execution_count": 137,
     "metadata": {},
     "output_type": "execute_result"
    }
   ],
   "source": [
    "type(LSD_ppm_filter)"
   ]
  },
  {
   "cell_type": "code",
   "execution_count": 138,
   "id": "6b87a9c4",
   "metadata": {},
   "outputs": [
    {
     "name": "stdout",
     "output_type": "stream",
     "text": [
      "   Time_Delay_in_Minutes  LSD_ppm  Avg_Math_Test_Score  Time_delay_in_Seconds\n",
      "0                      5     1.17                78.93                    300\n",
      "1                     15     2.97                58.20                    900\n",
      "2                     30     3.26                67.47                   1800\n",
      "3                     60     4.69                37.47                   3600\n",
      "4                    120     5.83                45.65                   7200\n",
      "5                    240     6.00                32.92                  14400\n",
      "6                    480     6.41                29.97                  28800\n"
     ]
    }
   ],
   "source": [
    "# delete a column from dataframe\n",
    "del data ['new_column']\n",
    "print(data)\n"
   ]
  },
  {
   "cell_type": "code",
   "execution_count": null,
   "id": "9895afd2",
   "metadata": {},
   "outputs": [],
   "source": []
  },
  {
   "cell_type": "code",
   "execution_count": null,
   "id": "802e9d56",
   "metadata": {},
   "outputs": [],
   "source": []
  }
 ],
 "metadata": {
  "kernelspec": {
   "display_name": "Python 3 (ipykernel)",
   "language": "python",
   "name": "python3"
  },
  "language_info": {
   "codemirror_mode": {
    "name": "ipython",
    "version": 3
   },
   "file_extension": ".py",
   "mimetype": "text/x-python",
   "name": "python",
   "nbconvert_exporter": "python",
   "pygments_lexer": "ipython3",
   "version": "3.9.13"
  }
 },
 "nbformat": 4,
 "nbformat_minor": 5
}
