{
 "cells": [
  {
   "cell_type": "markdown",
   "metadata": {},
   "source": [
    "## Symbolic Computation & Partial Derivatives\n",
    "Hands-on activity with Python  \n",
    "Editor: Saeid SHARIFY  \n",
    "Date: 2021/08/08  "
   ]
  },
  {
   "cell_type": "markdown",
   "metadata": {},
   "source": [
    "#### Imports and Packages"
   ]
  },
  {
   "cell_type": "code",
   "execution_count": 57,
   "metadata": {},
   "outputs": [],
   "source": [
    "import matplotlib.pyplot as plt\n",
    "import numpy as np\n",
    "from mpl_toolkits.mplot3d.axes3d import Axes3D\n",
    "from matplotlib import cm\n",
    "\n",
    "from sympy import symbols, diff\n",
    "from math import log\n",
    "\n",
    "%matplotlib inline"
   ]
  },
  {
   "cell_type": "markdown",
   "metadata": {},
   "source": [
    "#### Minimise // the function we use\n",
    "$f(x, y) = \\frac{1}{3^{-x^2 - y^2} + 1}$\n",
    "\n",
    "\n",
    "We can also simplify representing this function to:  \n",
    "$f(x, y) = \\frac{1}{r +1}$ where $r$ is $3^{-x^2 - y^2}$"
   ]
  },
  {
   "cell_type": "code",
   "execution_count": 58,
   "metadata": {},
   "outputs": [],
   "source": [
    "# writing the function\n",
    "def f(x, y):\n",
    "    r = 3**(-x**2 - y**2)\n",
    "    return 1 / (r + 1)\n"
   ]
  },
  {
   "cell_type": "markdown",
   "metadata": {},
   "source": [
    "#### Partial Derivatives\n",
    "Partial Derivatives with respect to x:  \n",
    "$\\frac{\\partial f}{\\partial x} = \\frac {2x \\ln(3) \\cdot 3^{-x^2 - y^2}} {\\left( 3^{-x^2 -y^2} + 1 \\right)^2}$\n",
    "\n",
    "Partial Derivatives with respect to y:  \n",
    "$\\frac{\\partial f}{\\partial y} = \\frac {2y \\ln(3) \\cdot 3^{-x^2 - y^2}} {\\left( 3^{-x^2 -y^2} + 1 \\right)^2}$\n",
    "\n",
    "\n"
   ]
  },
  {
   "cell_type": "markdown",
   "metadata": {},
   "source": [
    "#### Calculating the partial derivatives with SymPy"
   ]
  },
  {
   "cell_type": "code",
   "execution_count": 59,
   "metadata": {},
   "outputs": [
    {
     "data": {
      "text/latex": [
       "$\\displaystyle 0.0368089716197505$"
      ],
      "text/plain": [
       "0.0368089716197505"
      ]
     },
     "execution_count": 59,
     "metadata": {},
     "output_type": "execute_result"
    }
   ],
   "source": [
    "# evaluating the partial derivative\n",
    "diff(f(a,b),a).evalf(subs={a:1.8, b:1.0})"
   ]
  },
  {
   "cell_type": "markdown",
   "metadata": {},
   "source": [
    "#### Batch Gradient Descent"
   ]
  },
  {
   "cell_type": "code",
   "execution_count": null,
   "metadata": {},
   "outputs": [],
   "source": [
    "# setting up initial values for the parameters\n",
    "multip = 0.1\n",
    "max_iteration = 500\n",
    "param = np.array([1.8, 1.0]) # our initial guess\n",
    "\n",
    "for n in range(max_iteration):\n",
    "    gradient_x = diff(f(a,b), a).evalf(subs={a:param[0], b:param[1]})\n",
    "    gradient_y = diff(f(a,b), b).evalf(subs={a:param[0], b:param[1]})\n",
    "    # combining into a single numpy array\n",
    "    gradients = np.array([gradient_x, gradient_y])\n",
    "    param = param - multip * gradients\n",
    "    \n",
    "    \n",
    "# outputs\n",
    "print('Values of gradient array', gradients)\n",
    "print('Minimim occures at x on the value of:', param[0])\n",
    "print('Minimum occures at y on the value of:', param[1])\n",
    "print('The cost:', f(param[0], param[1]))\n",
    "\n"
   ]
  },
  {
   "cell_type": "code",
   "execution_count": null,
   "metadata": {},
   "outputs": [],
   "source": [
    "a, b = symbols('x, y')\n",
    "print ('The cost function of f(x,y) is: ', f(a, b))\n",
    "print ('Partial derivative on x is: ', diff(f(a,b), b))\n",
    "print ('The value of cost at this point:', f(a, b).evalf(subs={a:1.8, b:1.0})) # Dictionnary in Python: calculating cost at this point: {a:1.8, b:1.0}"
   ]
  },
  {
   "cell_type": "markdown",
   "metadata": {},
   "source": [
    "#### Calculating the partial derivatives without using SymPy"
   ]
  },
  {
   "cell_type": "code",
   "execution_count": null,
   "metadata": {},
   "outputs": [],
   "source": [
    "# writing the function\n",
    "# Partial Derivatives with respect to x:  \n",
    "def fpx(x,y):\n",
    "    r = 3**(-x**2 -y**2)\n",
    "    return 2*x*log(3)*r / (r + 1)**2\n",
    "\n",
    "# Partial Derivatives with respect to y:  \n",
    "def fpy (x,y):\n",
    "    r = 3**(-x**2 -y**2)\n",
    "    return 2*y*log(3)*r / (r + 1)**2"
   ]
  },
  {
   "cell_type": "code",
   "execution_count": null,
   "metadata": {
    "scrolled": true
   },
   "outputs": [],
   "source": [
    "fpx(1.8, 1.0)"
   ]
  },
  {
   "cell_type": "markdown",
   "metadata": {},
   "source": [
    "#### Using a manual function which is a lot faster than a SymPy loop"
   ]
  },
  {
   "cell_type": "code",
   "execution_count": null,
   "metadata": {},
   "outputs": [],
   "source": [
    "# setting up initial values for the parameters\n",
    "multip = 0.1\n",
    "max_iteration = 500\n",
    "param = np.array([1.8, 1.0]) # our initial guess\n",
    "\n",
    "for n in range(max_iteration):\n",
    "    gradient_x = fpx(param[0], param[1])\n",
    "    gradient_y = fpy(param[0], param[1])\n",
    "    # combining into a single numpy array\n",
    "    gradients = np.array([gradient_x, gradient_y])\n",
    "    param = param - multip * gradients\n",
    "    \n",
    "    \n",
    "# outputs\n",
    "print('Values of gradient array', gradients)\n",
    "print('Minimim occures at x on the value of:', param[0])\n",
    "print('Minimum occures at y on the value of:', param[1])\n",
    "print('The cost:', f(param[0], param[1]))\n",
    "\n"
   ]
  },
  {
   "cell_type": "code",
   "execution_count": null,
   "metadata": {},
   "outputs": [],
   "source": []
  }
 ],
 "metadata": {
  "kernelspec": {
   "display_name": "Python 3 (ipykernel)",
   "language": "python",
   "name": "python3"
  },
  "language_info": {
   "codemirror_mode": {
    "name": "ipython",
    "version": 3
   },
   "file_extension": ".py",
   "mimetype": "text/x-python",
   "name": "python",
   "nbconvert_exporter": "python",
   "pygments_lexer": "ipython3",
   "version": "3.9.13"
  }
 },
 "nbformat": 4,
 "nbformat_minor": 2
}
