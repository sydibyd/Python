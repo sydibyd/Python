{
 "cells": [
  {
   "cell_type": "markdown",
   "metadata": {},
   "source": [
    "## Symbolic Computation & Partial Derivatives\n",
    "Hands-on activity with Python  \n",
    "Editor: Saeid SHARIFY  \n",
    "Date: 2021/08/08  "
   ]
  },
  {
   "cell_type": "markdown",
   "metadata": {},
   "source": [
    "#### Imports and Packages"
   ]
  },
  {
   "cell_type": "code",
   "execution_count": 29,
   "metadata": {},
   "outputs": [],
   "source": [
    "import matplotlib.pyplot as plt\n",
    "import numpy as np\n",
    "from mpl_toolkits.mplot3d.axes3d import Axes3D\n",
    "from matplotlib import cm\n",
    "\n",
    "from sympy import symbols, diff\n",
    "\n",
    "%matplotlib inline"
   ]
  },
  {
   "cell_type": "markdown",
   "metadata": {},
   "source": [
    "#### Minimise // the function we use\n",
    "$f(x, y) = \\frac{1}{3^{-x^2 - y^2} + 1}$\n",
    "\n",
    "\n",
    "We can also simplify representing this function to:  \n",
    "$f(x, y) = \\frac{1}{r +1}$ where $r$ is $3^{-x^2 - y^2}$\n",
    "\n",
    "Now lets write the Python code to express this function."
   ]
  },
  {
   "cell_type": "code",
   "execution_count": 30,
   "metadata": {},
   "outputs": [],
   "source": [
    "# writing the function\n",
    "def f(x, y):\n",
    "    r = 3**(-x**2 - y**2)\n",
    "    return 1 / (r + 1)\n"
   ]
  },
  {
   "cell_type": "markdown",
   "metadata": {},
   "source": [
    "Now lets create a chart with this function."
   ]
  },
  {
   "cell_type": "code",
   "execution_count": 31,
   "metadata": {},
   "outputs": [
    {
     "name": "stdout",
     "output_type": "stream",
     "text": [
      "The cost function of f(x,y) is:  1/(3**(-x**2 - y**2) + 1)\n",
      "Partial derivative on x is:  2*3**(-x**2 - y**2)*x*log(3)/(3**(-x**2 - y**2) + 1)**2\n",
      "The value of cost at this point: 0.990604794032582\n"
     ]
    }
   ],
   "source": [
    "a, b = symbols('x, y')\n",
    "print ('The cost function of f(x,y) is: ', f(a, b))\n",
    "print ('Partial derivative on x is: ', diff(f(a,b), a))\n",
    "print ('The value of cost at this point:', f(a, b).evalf(subs={a:1.8, b:1.0})) # Dictionnary in Python: calculating cost at this point: {a:1.8, b:1.0}"
   ]
  },
  {
   "cell_type": "code",
   "execution_count": 32,
   "metadata": {},
   "outputs": [
    {
     "data": {
      "text/latex": [
       "$\\displaystyle 0.0368089716197505$"
      ],
      "text/plain": [
       "0.0368089716197505"
      ]
     },
     "execution_count": 32,
     "metadata": {},
     "output_type": "execute_result"
    }
   ],
   "source": [
    "# evaluating the partial derivative\n",
    "diff(f(a,b),a).evalf(subs={a:1.8, b:1.0})"
   ]
  },
  {
   "cell_type": "markdown",
   "metadata": {},
   "source": [
    "#### Batch Gradient Descent\n",
    "with SymPy"
   ]
  },
  {
   "cell_type": "code",
   "execution_count": 33,
   "metadata": {},
   "outputs": [
    {
     "name": "stdout",
     "output_type": "stream",
     "text": [
      "Values of gradient array [2.01013037525579e-11 1.11673909736433e-11]\n",
      "Minimim occures at x on the value of: 3.45838599885832e-11\n",
      "Minimum occures at y on the value of: 1.92132555492129e-11\n",
      "The cost: 0.500000000000000\n"
     ]
    }
   ],
   "source": [
    "# setting up initial values for the parameters\n",
    "multip = 0.1\n",
    "max_iteration = 500\n",
    "param = np.array([1.8, 1.0]) # our initial guess\n",
    "\n",
    "for n in range(max_iteration):\n",
    "    gradient_x = diff(f(a,b), a).evalf(subs={a:param[0], b:param[1]})\n",
    "    gradient_y = diff(f(a,b), b).evalf(subs={a:param[0], b:param[1]})\n",
    "    # combining into a single numpy array\n",
    "    gradients = np.array([gradient_x, gradient_y])\n",
    "    param = param - multip * gradients\n",
    "    \n",
    "    \n",
    "# outputs\n",
    "print('Values of gradient array', gradients)\n",
    "print('Minimim occures at x on the value of:', param[0])\n",
    "print('Minimum occures at y on the value of:', param[1])\n",
    "print('The cost:', f(param[0], param[1]))\n",
    "\n"
   ]
  },
  {
   "cell_type": "code",
   "execution_count": null,
   "metadata": {},
   "outputs": [],
   "source": []
  },
  {
   "cell_type": "code",
   "execution_count": null,
   "metadata": {},
   "outputs": [],
   "source": []
  }
 ],
 "metadata": {
  "kernelspec": {
   "display_name": "Python 3 (ipykernel)",
   "language": "python",
   "name": "python3"
  },
  "language_info": {
   "codemirror_mode": {
    "name": "ipython",
    "version": 3
   },
   "file_extension": ".py",
   "mimetype": "text/x-python",
   "name": "python",
   "nbconvert_exporter": "python",
   "pygments_lexer": "ipython3",
   "version": "3.9.13"
  }
 },
 "nbformat": 4,
 "nbformat_minor": 2
}
